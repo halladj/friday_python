{
 "cells": [
  {
   "cell_type": "markdown",
   "id": "a433ccca-d3ab-4cc5-9769-6fe23bc349c8",
   "metadata": {},
   "source": [
    "# 1. Exercise-1: \n",
    "\n",
    " * **Write a Python program that takes a list of numbers as input and prints the sum of all the numbers in the list.**\n",
    "\n"
   ]
  },
  {
   "cell_type": "code",
   "execution_count": 2,
   "id": "088e2798-cfe7-4958-be66-2ae93a444b32",
   "metadata": {},
   "outputs": [],
   "source": [
    "numbers = [1,3,4,5,6,7]"
   ]
  },
  {
   "cell_type": "code",
   "execution_count": 6,
   "id": "ffcf5cda-ed4f-4064-a122-5914efdf2e39",
   "metadata": {},
   "outputs": [
    {
     "name": "stdout",
     "output_type": "stream",
     "text": [
      "26\n"
     ]
    }
   ],
   "source": [
    "_sum = 0\n",
    "for i in range(6): #[0, 5]\n",
    "    _sum = _sum + numbers[i]\n",
    "\n",
    "print(_sum)"
   ]
  },
  {
   "cell_type": "code",
   "execution_count": null,
   "id": "9471df2c-c701-4783-9b63-64fb0082a878",
   "metadata": {},
   "outputs": [],
   "source": []
  },
  {
   "cell_type": "code",
   "execution_count": 7,
   "id": "d495c527-1d0a-42a3-8217-ec491b453154",
   "metadata": {},
   "outputs": [
    {
     "name": "stdout",
     "output_type": "stream",
     "text": [
      " 10\n"
     ]
    }
   ],
   "source": [
    "x = input()"
   ]
  },
  {
   "cell_type": "code",
   "execution_count": null,
   "id": "42bb0018-a093-4233-bab1-22c24d544f10",
   "metadata": {},
   "outputs": [],
   "source": []
  },
  {
   "cell_type": "markdown",
   "id": "199f27d9-5e1d-4a75-aef3-79410540d474",
   "metadata": {},
   "source": [
    "# 2. Exercise-2: \n",
    "\n",
    " * **Write a Python program that takes a list of numbers and prints only the even numbers from the list.**\n",
    "\n"
   ]
  },
  {
   "cell_type": "code",
   "execution_count": 12,
   "id": "ebe3c2dc-e6ef-490e-98dd-4841a67b1a7e",
   "metadata": {},
   "outputs": [
    {
     "name": "stdout",
     "output_type": "stream",
     "text": [
      " 1\n",
      " 2\n",
      " 3\n",
      " 4\n",
      " 5\n"
     ]
    }
   ],
   "source": [
    "numbers = []\n",
    "\n",
    "for i in range(5):\n",
    "    numbers.append( int(input()) )"
   ]
  },
  {
   "cell_type": "code",
   "execution_count": 15,
   "id": "2ef480f0-3d94-4d82-b23e-3a8f365bb4a1",
   "metadata": {},
   "outputs": [
    {
     "name": "stdout",
     "output_type": "stream",
     "text": [
      "32\n",
      "34\n",
      "774\n",
      "26\n"
     ]
    }
   ],
   "source": [
    "numbers = [21,32,34,774,45,26,97]\n",
    "for n in numbers:\n",
    "    if n % 2  == 0:\n",
    "        print(n)"
   ]
  },
  {
   "cell_type": "code",
   "execution_count": null,
   "id": "34c3f751-a2de-4519-8ab9-b001038a8e88",
   "metadata": {},
   "outputs": [],
   "source": []
  },
  {
   "cell_type": "code",
   "execution_count": 16,
   "id": "2444f3d2-5b33-4574-9955-8344c609b3f0",
   "metadata": {},
   "outputs": [],
   "source": [
    "## Here we talk about dictionary\n",
    "\n",
    "x = {}\n",
    "\n",
    "## Add element.\n",
    "x[\"football\"]= \"a sports game\"\n",
    "x[\"names\"]= [\"messi\", \"ronaldo\"]"
   ]
  },
  {
   "cell_type": "code",
   "execution_count": 17,
   "id": "a13495c8-16aa-4b65-9ae9-3ee2431c2d09",
   "metadata": {},
   "outputs": [
    {
     "data": {
      "text/plain": [
       "{'football': 'a sports game', 'names': ['messi', 'ronaldo']}"
      ]
     },
     "execution_count": 17,
     "metadata": {},
     "output_type": "execute_result"
    }
   ],
   "source": [
    "x"
   ]
  },
  {
   "cell_type": "code",
   "execution_count": 21,
   "id": "ea0463fc-7d85-4e78-9d59-00630319d6ec",
   "metadata": {},
   "outputs": [
    {
     "name": "stdout",
     "output_type": "stream",
     "text": [
      "a sports game\n"
     ]
    }
   ],
   "source": [
    "print(x.get(\"football\"))"
   ]
  },
  {
   "cell_type": "code",
   "execution_count": 25,
   "id": "facd2fe4-59ce-4ac8-8690-78944390016d",
   "metadata": {},
   "outputs": [
    {
     "ename": "KeyError",
     "evalue": "'football'",
     "output_type": "error",
     "traceback": [
      "\u001b[0;31m---------------------------------------------------------------------------\u001b[0m",
      "\u001b[0;31mKeyError\u001b[0m                                  Traceback (most recent call last)",
      "Cell \u001b[0;32mIn[25], line 1\u001b[0m\n\u001b[0;32m----> 1\u001b[0m \u001b[43mx\u001b[49m\u001b[38;5;241;43m.\u001b[39;49m\u001b[43mpop\u001b[49m\u001b[43m(\u001b[49m\u001b[38;5;124;43m\"\u001b[39;49m\u001b[38;5;124;43mfootball\u001b[39;49m\u001b[38;5;124;43m\"\u001b[39;49m\u001b[43m)\u001b[49m\n",
      "\u001b[0;31mKeyError\u001b[0m: 'football'"
     ]
    }
   ],
   "source": [
    "x.pop(\"football\")"
   ]
  },
  {
   "cell_type": "code",
   "execution_count": 24,
   "id": "1fce2604-c3d9-4b10-b031-28597c80401d",
   "metadata": {},
   "outputs": [
    {
     "name": "stdout",
     "output_type": "stream",
     "text": [
      "{'names': ['messi', 'ronaldo']}\n"
     ]
    }
   ],
   "source": [
    "print(x)"
   ]
  },
  {
   "cell_type": "markdown",
   "id": "af24cb84-6037-45f4-85b6-3cb9475685da",
   "metadata": {},
   "source": [
    "# 3. Exercise-3: \n",
    "\n",
    " * **Write a programe that takes a list of numbers and creates a dictionary where the keys are the numbers and the values are the squares of those numbers**\n",
    "\n"
   ]
  },
  {
   "cell_type": "code",
   "execution_count": 26,
   "id": "e260362d-14c4-4623-916b-55baa80f0889",
   "metadata": {},
   "outputs": [],
   "source": [
    "numbers = [32,34,5,677,3]\n",
    "\n",
    "d = {}\n",
    "for e in numbers:\n",
    "    d[str(e)] =  e ** 2"
   ]
  },
  {
   "cell_type": "code",
   "execution_count": 27,
   "id": "325c25f9-f9c3-449b-bb4d-ec290e5369a3",
   "metadata": {},
   "outputs": [
    {
     "data": {
      "text/plain": [
       "{'32': 1024, '34': 1156, '5': 25, '677': 458329, '3': 9}"
      ]
     },
     "execution_count": 27,
     "metadata": {},
     "output_type": "execute_result"
    }
   ],
   "source": [
    "d"
   ]
  },
  {
   "cell_type": "markdown",
   "id": "96f0b7b8-0d6a-4147-9917-1dda174fcfc0",
   "metadata": {},
   "source": [
    "# 4. Exercise-4: \n",
    "\n",
    " * **Write a programe that takes a list and creates a dictionary where the keys are the elements from the list and the values are the number of times each element appears in the list.**\n",
    "\n"
   ]
  },
  {
   "cell_type": "code",
   "execution_count": 2,
   "id": "65ab4ef8-4ff6-4301-abf1-d173c69ae180",
   "metadata": {},
   "outputs": [],
   "source": [
    "x = [12,3,3,4,6,6,4,3,333]"
   ]
  },
  {
   "cell_type": "code",
   "execution_count": null,
   "id": "b2051dfd",
   "metadata": {},
   "outputs": [],
   "source": []
  },
  {
   "cell_type": "code",
   "execution_count": 7,
   "id": "868fd8bc",
   "metadata": {},
   "outputs": [],
   "source": [
    "d = {}\n",
    "for element in x:\n",
    "    co = 0\n",
    "    for e in x:\n",
    "        if e == element:\n",
    "            co = co + 1\n",
    "\n",
    "    d [str(element)] = co\n"
   ]
  },
  {
   "cell_type": "code",
   "execution_count": 8,
   "id": "59e81b09",
   "metadata": {},
   "outputs": [
    {
     "data": {
      "text/plain": [
       "{'12': 1, '3': 3, '4': 2, '6': 2, '333': 1}"
      ]
     },
     "execution_count": 8,
     "metadata": {},
     "output_type": "execute_result"
    }
   ],
   "source": [
    "d"
   ]
  },
  {
   "cell_type": "markdown",
   "id": "6b61846f-2a41-4c72-8ad5-d3310bf75826",
   "metadata": {},
   "source": [
    "# 5. Exercise-5: \n",
    "\n",
    " * **Write a program that takes a list of numbers and prints the maximum value from that list without using Python’s built-in max() function. Use a for loop and if statements to compare the elements.**\n",
    "\n"
   ]
  },
  {
   "cell_type": "code",
   "execution_count": null,
   "id": "69c0f0fe-00c5-4260-bc17-4eb7397d836d",
   "metadata": {},
   "outputs": [],
   "source": []
  },
  {
   "cell_type": "markdown",
   "id": "d94030a6-d60a-442a-b8e8-678f3a4fe3eb",
   "metadata": {},
   "source": [
    "# 6. Exercise-6: \n",
    "\n",
    " * **Write a program that takes two lists and creates a list of elements that are present in both lists (i.e., the intersection of two lists).**\n",
    "\n"
   ]
  },
  {
   "cell_type": "code",
   "execution_count": null,
   "id": "8712b88e-9721-46cb-86f5-d83510ad0878",
   "metadata": {},
   "outputs": [],
   "source": []
  },
  {
   "cell_type": "markdown",
   "id": "fc9f8599-4f23-4604-bcf4-b54247f079d5",
   "metadata": {},
   "source": [
    "#Bonus: \n",
    "\n",
    " * **Write a program that takes a list and sorts it from smallest to largest.**\n",
    " * **Write a program that takes a list searches for a specific element in it, using for loop**\n",
    " * **Write a program that takes a sorted list searches for a specific element in it, using for loop**\n",
    "\n"
   ]
  },
  {
   "cell_type": "code",
   "execution_count": null,
   "id": "17d70ec6-22e6-4bad-9048-3d9ffdfec4e2",
   "metadata": {},
   "outputs": [],
   "source": []
  }
 ],
 "metadata": {
  "kernelspec": {
   "display_name": "Python 3 (ipykernel)",
   "language": "python",
   "name": "python3"
  },
  "language_info": {
   "codemirror_mode": {
    "name": "ipython",
    "version": 3
   },
   "file_extension": ".py",
   "mimetype": "text/x-python",
   "name": "python",
   "nbconvert_exporter": "python",
   "pygments_lexer": "ipython3",
   "version": "3.11.2"
  }
 },
 "nbformat": 4,
 "nbformat_minor": 5
}
